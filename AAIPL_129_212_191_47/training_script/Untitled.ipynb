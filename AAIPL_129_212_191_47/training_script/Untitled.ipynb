{
 "cells": [
  {
   "cell_type": "code",
   "execution_count": 1,
   "id": "a500f1ee-790c-4a82-b3fb-c325884559a6",
   "metadata": {},
   "outputs": [],
   "source": [
    "texty = \"\"\"question': \"A is B's mother. B is C's only son. C is D's husband. D's only sibling, E, is unmarried. E's father, F, has only one son. G is F's wife. If C has no siblings, how is G's son-in-law related to A?\",'choices': ['A) Husband', 'B) Son', 'C) Brother', 'D) Father'] \"\"\""
   ]
  },
  {
   "cell_type": "code",
   "execution_count": 3,
   "id": "302956e6-da4f-49ee-a37b-e50b3f087ed0",
   "metadata": {},
   "outputs": [
    {
     "name": "stdout",
     "output_type": "stream",
     "text": [
      "INFO 07-19 12:31:37 [__init__.py:248] Automatically detected platform rocm.\n",
      "PyTorch detected number of available devices: 1\n",
      "============================================================\n",
      "BLOOD RELATIONS GRPO TRAINER\n",
      "============================================================\n",
      "Training Type: grpo\n",
      "Mode: inference\n",
      "Model: /jupyter-tutorial/AAIPL_129_212_191_47/ckpt/direct_relation_sft_finetuning/checkpoint-20\n",
      "Output directory: /jupyter-tutorial/inference_output\n",
      "Dataset file: formatted_questions_array.json\n",
      "Learning rate: 2e-05\n",
      "Epochs: 3\n",
      "Batch size: 1\n",
      "LoRA rank: 8\n",
      "LoRA alpha: 16\n",
      "Max sequence length: 512\n",
      "GPU IDs: 0\n",
      "============================================================\n",
      "============================================================\n",
      "RUNNING SINGLE INFERENCE TEST\n",
      "============================================================\n",
      "Question: texty\n",
      "Setting up inference model...\n",
      "Setting up inference model on device: cuda\n",
      "Loading base model: /jupyter-tutorial/AAIPL_129_212_191_47/ckpt/direct_relation_sft_finetuning/checkpoint-20\n",
      "Loading checkpoint shards: 100%|██████████████████| 3/3 [00:03<00:00,  1.06s/it]\n",
      "Loading tokenizer for: /jupyter-tutorial/AAIPL_129_212_191_47/ckpt/direct_relation_sft_finetuning/checkpoint-20\n",
      "No checkpoints found in /jupyter-tutorial/inference_output\n",
      "No trained checkpoints found in /jupyter-tutorial/inference_output\n",
      "Inference model setup completed successfully\n",
      "Generating response...\n",
      "/usr/local/lib/python3.12/dist-packages/transformers/generation/configuration_utils.py:631: UserWarning: `do_sample` is set to `False`. However, `temperature` is set to `0.6` -- this flag is only used in sample-based generation modes. You should set `do_sample=True` or unset `temperature`.\n",
      "  warnings.warn(\n",
      "/usr/local/lib/python3.12/dist-packages/transformers/generation/configuration_utils.py:636: UserWarning: `do_sample` is set to `False`. However, `top_p` is set to `0.95` -- this flag is only used in sample-based generation modes. You should set `do_sample=True` or unset `top_p`.\n",
      "  warnings.warn(\n",
      "/usr/local/lib/python3.12/dist-packages/transformers/generation/configuration_utils.py:653: UserWarning: `do_sample` is set to `False`. However, `top_k` is set to `20` -- this flag is only used in sample-based generation modes. You should set `do_sample=True` or unset `top_k`.\n",
      "  warnings.warn(\n",
      "Response generated in 26.36s. Length: 196 chars.\n",
      "\n",
      "============================================================\n",
      "INFERENCE RESULTS\n",
      "============================================================\n",
      "Question: texty\n",
      "\n",
      "Model Response:\n",
      "<reasoning>\n",
      "The question is not provided, so I cannot determine the correct answer. Please provide the question and the options for the \"Blood Relations\" topic.\n",
      "</reasoning>\n",
      "<answer>\n",
      "N/A\n",
      "</answer>\n",
      "\n",
      "Extracted Answer: A\n",
      "============================================================\n",
      "No checkpoints found in /jupyter-tutorial/inference_output\n",
      "Results saved to: inference.md\n",
      "Inference model cleaned up\n",
      "[rank0]:[W719 12:32:09.322885961 ProcessGroupNCCL.cpp:1476] Warning: WARNING: destroy_process_group() was not called before program exit, which can leak resources. For more info, please see https://pytorch.org/docs/stable/distributed.html#shutdown (function operator())\n"
     ]
    }
   ],
   "source": [
    "!python -m trainer \\\n",
    "           --mode inference \\\n",
    "           --model_name /jupyter-tutorial/AAIPL_129_212_191_47/ckpt/direct_relation_sft_finetuning/checkpoint-20 \\\n",
    "           --output_dir /jupyter-tutorial/inference_output \\\n",
    "           --test_question texty"
   ]
  },
  {
   "cell_type": "code",
   "execution_count": null,
   "id": "83a260ff-66b6-423e-b592-504de137c7a1",
   "metadata": {},
   "outputs": [],
   "source": []
  }
 ],
 "metadata": {
  "kernelspec": {
   "display_name": "Python 3 (ipykernel)",
   "language": "python",
   "name": "python3"
  },
  "language_info": {
   "codemirror_mode": {
    "name": "ipython",
    "version": 3
   },
   "file_extension": ".py",
   "mimetype": "text/x-python",
   "name": "python",
   "nbconvert_exporter": "python",
   "pygments_lexer": "ipython3",
   "version": "3.12.10"
  }
 },
 "nbformat": 4,
 "nbformat_minor": 5
}

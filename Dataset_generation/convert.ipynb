{
 "cells": [
  {
   "cell_type": "code",
   "execution_count": 1,
   "id": "9ebf5fe2-bfde-409a-9cad-5b7ad3de38b5",
   "metadata": {},
   "outputs": [],
   "source": [
    "# data = \n",
    "new_data = []\n",
    "import json\n",
    "with open(\"/jupyter-tutorial/Dataset_generation/grpo_seating_arrangement.jsonl\", \"r\", encoding=\"utf-8\") as f:\n",
    "    for lines in f:\n",
    "        data = json.loads(lines)\n",
    "        # print(data)\n",
    "        data['topic'] = \"Seating Arrangements (Linear, Circular)\"\n",
    "        new_data.append(data)\n",
    "        # print(lines)\n",
    "        # print(type(lines))\n",
    "        # break"
   ]
  },
  {
   "cell_type": "code",
   "execution_count": 12,
   "id": "a317af8d-9674-411f-a956-f4a34a2dd3f9",
   "metadata": {},
   "outputs": [
    {
     "data": {
      "text/plain": [
       "[{'question': 'Seven people - P, Q, R, S, T, U, and V - are sitting in a straight line facing North. Q is to the immediate right of R. T is three places to the left of V. S is at the extreme right end. P is next to U. U is not next to S. Who is second from the left?\\n\\nA) R\\nB) Q\\nC) T\\nD) P',\n",
       "  'choices': ['A) R', 'B) Q', 'C) T', 'D) P'],\n",
       "  'answer': 'C',\n",
       "  'explanation': \"S is at the right end. T is three places left of V. P is next to U, and U isn't next to S. Q is right of R. Hence T is 2nd from left.\",\n",
       "  'id': 'call_0046_q_02',\n",
       "  'call_number': 46,\n",
       "  'generated_at': '2025-07-20 03:43:51',\n",
       "  'topic': 'Seating Arrangements (Linear, Circular)'},\n",
       " {'question': 'Six friends (A, B, C, D, E, F) from different countries are seated around a circular table, all facing the center. The Italian is to the immediate right of A. B sits opposite the French person. C is not next to A. E is from Japan and sits opposite D, who is German. The American sits to the left of the Japanese person. Who is the French person?\\n\\nA) A\\nB) C\\nC) E\\nD) F',\n",
       "  'choices': ['A) A', 'B) C', 'C) E', 'D) F'],\n",
       "  'answer': 'B',\n",
       "  'explanation': 'E is Japanese, D is German, so neither can be French. A is next to the Italian. B is opposite French, leaving C as the only option. All constraints are satisfied.',\n",
       "  'id': 'call_0047_q_01',\n",
       "  'call_number': 47,\n",
       "  'generated_at': '2025-07-20 03:43:55',\n",
       "  'topic': 'Seating Arrangements (Linear, Circular)'},\n",
       " {'question': 'Seven professionals (P, Q, R, S, T, U, V) are seated in a straight line facing North. An Engineer sits at one end. A Doctor sits 3rd from the other end. The Lawyer is next to both the Doctor and the Engineer. P is at the extreme left. T is next to P. Q is the Lawyer. The Teacher is next to the Engineer. Who is the Engineer?\\n\\nA) R\\nB) S\\nC) U\\nD) V',\n",
       "  'choices': ['A) R', 'B) S', 'C) U', 'D) V'],\n",
       "  'answer': 'D',\n",
       "  'explanation': 'P is at the left, Q is the Lawyer. Doctor is 3rd from right. Lawyer next to Doctor and Engineer means Engineer is at the right. T is next to P, so neither are the Engineer. Teacher is next to Engineer. Thus, V is the Engineer.',\n",
       "  'id': 'call_0047_q_02',\n",
       "  'call_number': 47,\n",
       "  'generated_at': '2025-07-20 03:43:55',\n",
       "  'topic': 'Seating Arrangements (Linear, Circular)'},\n",
       " {'question': 'Six friends - A, B, C, D, E, and F - from different countries (USA, China, Japan) sit around a circular table facing the center. Each country is represented twice. A sits opposite the American. B and C are adjacent. The Japanese sit next to each other. A and F are not adjacent. B is not American. Who sits opposite to C?\\n\\nA) D\\nB) E\\nC) F\\nD) A',\n",
       "  'choices': ['A) D', 'B) E', 'C) F', 'D) A'],\n",
       "  'answer': 'B',\n",
       "  'explanation': \"Since A sits opposite an American, and B isn't American, C must be opposite either D, E, or F. A and F are not adjacent, and B and C are adjacent. Therefore, E must sit opposite C.\",\n",
       "  'id': 'call_0048_q_01',\n",
       "  'call_number': 48,\n",
       "  'generated_at': '2025-07-20 03:43:58',\n",
       "  'topic': 'Seating Arrangements (Linear, Circular)'},\n",
       " {'question': 'Seven professionals (Doctor, Engineer, Lawyer, Teacher, Manager, Accountant, Artist) sit in a straight line. The Engineer is at the extreme left. The Lawyer is third from the right. The Teacher is next to the Engineer. The Accountant is to the left of the Lawyer. The Manager is between the Teacher and the Doctor. Who is at the extreme right?\\n\\nA) Doctor\\nB) Accountant\\nC) Lawyer\\nD) Artist',\n",
       "  'choices': ['A) Doctor', 'B) Accountant', 'C) Lawyer', 'D) Artist'],\n",
       "  'answer': 'D',\n",
       "  'explanation': 'Engineer is at the left. Teacher is next to the Engineer. Lawyer is 3rd from the right. Accountant is left of the Lawyer. Manager is between Teacher and Doctor. Therefore, the Artist must be at the extreme right.',\n",
       "  'id': 'call_0048_q_02',\n",
       "  'call_number': 48,\n",
       "  'generated_at': '2025-07-20 03:43:58',\n",
       "  'topic': 'Seating Arrangements (Linear, Circular)'},\n",
       " {'question': 'Six friends – A, B, C, D, E, and F – sit around a circular table facing the center. A is next to D and F. B is opposite D. C is not next to F. Who sits opposite to A? (Circular Arrangement)',\n",
       "  'choices': ['A) C', 'B) E', 'C) F', 'D) B'],\n",
       "  'answer': 'B',\n",
       "  'explanation': \"A is next to D and F, so D and F are adjacent. B is opposite D, placing B. C isn't next to F. Hence, E must be opposite A.\",\n",
       "  'id': 'call_0049_q_01',\n",
       "  'call_number': 49,\n",
       "  'generated_at': '2025-07-20 03:44:01',\n",
       "  'topic': 'Seating Arrangements (Linear, Circular)'},\n",
       " {'question': 'Seven people - P, Q, R, S, T, U, and V - are sitting in a straight line facing North. P sits at the extreme left. T sits third to the right of P. Q sits to the immediate left of U. R sits to the immediate right of T. S sits to the immediate right of V. Who sits at the extreme right end? (Linear Arrangement)',\n",
       "  'choices': ['A) U', 'B) Q', 'C) S', 'D) V'],\n",
       "  'answer': 'A',\n",
       "  'explanation': \"P is at the left. T is third to P's right: P _ _ T. R is to T's right: P _ _ T R. Q is to U's left: Q U. S is to V's right: V S. So P V S T R Q U. Thus, U is at the right end.\",\n",
       "  'id': 'call_0049_q_02',\n",
       "  'call_number': 49,\n",
       "  'generated_at': '2025-07-20 03:44:01',\n",
       "  'topic': 'Seating Arrangements (Linear, Circular)'},\n",
       " {'question': 'Six friends – A, B, C, D, E, and F – are sitting around a circular table, all facing the center. A sits opposite to B. C sits to the immediate left of B. D sits opposite to C. E is not adjacent to B. What does F sit opposite to?\\n\\nA) A\\nB) B\\nC) E\\nD) D',\n",
       "  'choices': ['A) A', 'B) B', 'C) E', 'D) D'],\n",
       "  'answer': 'C',\n",
       "  'explanation': \"A is opposite B, C is left of B, D is opposite C. E can't be next to B, so E is opposite to D. Then, F must be opposite to E by deduction.\",\n",
       "  'id': 'call_0050_q_01',\n",
       "  'call_number': 50,\n",
       "  'generated_at': '2025-07-20 03:44:04',\n",
       "  'topic': 'Seating Arrangements (Linear, Circular)'},\n",
       " {'question': 'Seven people – P, Q, R, S, T, U, and V – are sitting in a straight line facing North. P sits at the extreme left. S is third to the right of P. Q is to the immediate left of U. U is not next to S. V is to the immediate right of T. R is next to S. Who is sitting at the extreme right end?\\n\\nA) U\\nB) V\\nC) T\\nD) Q',\n",
       "  'choices': ['A) U', 'B) V', 'C) T', 'D) Q'],\n",
       "  'answer': 'B',\n",
       "  'explanation': 'P is left end, S is 3rd right of P. R is next to S, U is not next to S, Q is left of U. V is right of T. Therefore, the order is P...S R...U Q, V and T must be at the end. As R is next to S, the end must be V.',\n",
       "  'id': 'call_0050_q_02',\n",
       "  'call_number': 50,\n",
       "  'generated_at': '2025-07-20 03:44:04',\n",
       "  'topic': 'Seating Arrangements (Linear, Circular)'}]"
      ]
     },
     "execution_count": 12,
     "metadata": {},
     "output_type": "execute_result"
    }
   ],
   "source": [
    "new_data[91:100]"
   ]
  },
  {
   "cell_type": "code",
   "execution_count": 11,
   "id": "a4e3e23b-bf37-4c28-957f-99c2939d307a",
   "metadata": {},
   "outputs": [],
   "source": [
    "with open(\"/jupyter-tutorial/Dataset_generation/grpo_blood_relations.jsonl\", \"r\", encoding=\"utf-8\") as f:\n",
    "    for lines in f:\n",
    "        data = json.loads(lines)\n",
    "        # print(data)\n",
    "        data['topic'] = \"Puzzles involving generations and family tree logic\"\n",
    "        new_data.append(data)"
   ]
  },
  {
   "cell_type": "code",
   "execution_count": 12,
   "id": "3cfbd899-1c11-42a6-ba9c-19392673b57a",
   "metadata": {},
   "outputs": [],
   "source": [
    "with open(\"/jupyter-tutorial/Dataset_generation/grpo_truth_and_liar.jsonl\", \"r\", encoding=\"utf-8\") as f:\n",
    "    for lines in f:\n",
    "        data = json.loads(lines)\n",
    "        # print(data)\n",
    "        data['topic'] = \"Truth-teller and Liar Problems\"\n",
    "        new_data.append(data)"
   ]
  },
  {
   "cell_type": "code",
   "execution_count": 13,
   "id": "f5652755-5a12-4378-a981-0ca29a724c17",
   "metadata": {},
   "outputs": [
    {
     "data": {
      "text/plain": [
       "1474"
      ]
     },
     "execution_count": 13,
     "metadata": {},
     "output_type": "execute_result"
    }
   ],
   "source": [
    "len(new_data)"
   ]
  },
  {
   "cell_type": "code",
   "execution_count": 14,
   "id": "dc2cd242-7b8b-4b45-94c0-3ec5548b42a8",
   "metadata": {},
   "outputs": [],
   "source": [
    "output_path = \"grpo_final_data_array.json\"\n",
    "\n",
    "with open(output_path, \"w\", encoding=\"utf-8\") as out:\n",
    "    json.dump(new_data, out, indent=2, ensure_ascii=False)"
   ]
  },
  {
   "cell_type": "code",
   "execution_count": null,
   "id": "b06c8768-7032-4dcd-9fab-7880a7551f63",
   "metadata": {},
   "outputs": [],
   "source": []
  }
 ],
 "metadata": {
  "kernelspec": {
   "display_name": "Python 3 (ipykernel)",
   "language": "python",
   "name": "python3"
  },
  "language_info": {
   "codemirror_mode": {
    "name": "ipython",
    "version": 3
   },
   "file_extension": ".py",
   "mimetype": "text/x-python",
   "name": "python",
   "nbconvert_exporter": "python",
   "pygments_lexer": "ipython3",
   "version": "3.12.10"
  }
 },
 "nbformat": 4,
 "nbformat_minor": 5
}
